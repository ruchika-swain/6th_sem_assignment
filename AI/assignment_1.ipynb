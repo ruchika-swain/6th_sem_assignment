{
 "metadata": {
  "language_info": {
   "codemirror_mode": {
    "name": "ipython",
    "version": 3
   },
   "file_extension": ".py",
   "mimetype": "text/x-python",
   "name": "python",
   "nbconvert_exporter": "python",
   "pygments_lexer": "ipython3",
   "version": "3.8.2-final"
  },
  "orig_nbformat": 2,
  "kernelspec": {
   "name": "python38232bitb0f34cd35c1048aeb3619b7e633bff51",
   "display_name": "Python 3.8.2 32-bit",
   "language": "python"
  }
 },
 "nbformat": 4,
 "nbformat_minor": 2,
 "cells": [
  {
   "cell_type": "code",
   "execution_count": 17,
   "metadata": {},
   "outputs": [
    {
     "output_type": "stream",
     "name": "stdout",
     "text": [
      "The reversed sentence is: class! AI the to Welcome \n"
     ]
    }
   ],
   "source": [
    "#Question 2 to reverse a string of words \n",
    "\n",
    "sent = input(\"Enter the sentence:\")\n",
    "a = []\n",
    "word = \"\"\n",
    "for i in range(len(sent)):\n",
    "    if sent[i] == ' ':\n",
    "        a.append(word)\n",
    "        word = \"\"\n",
    "    else:\n",
    "        word = word + sent[i]\n",
    "\n",
    "a.append(word)\n",
    "\n",
    "newSent = \"\"\n",
    "for i in reversed(range(0,len(a))):\n",
    "    newSent = newSent + a[i] + \" \"\n",
    "\n",
    "print(\"The reversed sentence is:\", newSent)"
   ]
  },
  {
   "cell_type": "code",
   "execution_count": 5,
   "metadata": {},
   "outputs": [
    {
     "output_type": "stream",
     "name": "stdout",
     "text": [
      "Select from the following options\n",
      "1:ADD\n",
      "2:SUBTRACT\n",
      "3:MULTIPLY\n",
      "4:DIVIDE\n",
      "2.0 * 4.0 8.0\n",
      "6.0 - 1.0 5.0\n",
      "invalid option\n"
     ]
    }
   ],
   "source": [
    "#Question 1 to make a simple calculator\n",
    "\n",
    "# To print the options\n",
    "print(\"Select from the following options\")\n",
    "print(\"1:ADD\")\n",
    "print(\"2:SUBTRACT\")\n",
    "print(\"3:MULTIPLY\")\n",
    "print(\"4:DIVIDE\")\n",
    "\n",
    "#defining the basic mathematic operations\n",
    "def add(a,b):\n",
    "    return a+b\n",
    "def sub(a,b):\n",
    "    return a-b\n",
    "def mult(a,b):\n",
    "    return a*b\n",
    "def div(a,b):\n",
    "    return a/b\n",
    "\n",
    "#taking options for operations from the user\n",
    "while True:\n",
    "    #input of option(opt)\n",
    "    opt=input()\n",
    "    if opt in ('1', '2', '3', '4'):\n",
    "        a=float(input(\"Enter first no\"))\n",
    "        b=float(input(\"Enter second no\"))\n",
    "\n",
    "        if opt=='1':\n",
    "            print(a,\"+\",b,add(a,b))\n",
    "        elif opt=='2':\n",
    "            print(a,\"-\",b,sub(a,b))\n",
    "        elif opt=='3':\n",
    "            print(a,\"*\",b,mult(a,b))\n",
    "        elif opt=='4':\n",
    "            print(a,\"/\",b,div(a,b))\n",
    "    else:\n",
    "        print(\"invalid option\")\n",
    "    cont=input(\"if you want to continue enter T else F\")\n",
    "    if cont=='T':\n",
    "            continue\n",
    "    else:\n",
    "            break\n"
   ]
  },
  {
   "cell_type": "code",
   "execution_count": 33,
   "metadata": {},
   "outputs": [
    {
     "output_type": "stream",
     "name": "stdout",
     "text": [
      "frequency of  A is:  3\nfrequency of  I is:  2\nfrequency of  M is:  1\nfrequency of  U is:  1\nfrequency of  a is:  34\nfrequency of  b is:  4\nfrequency of  c is:  17\nfrequency of  d is:  10\nfrequency of  e is:  40\nfrequency of  f is:  8\nfrequency of  g is:  13\nfrequency of  h is:  10\nfrequency of  i is:  27\nfrequency of  j is:  1\nfrequency of  k is:  4\nfrequency of  l is:  17\nfrequency of  m is:  11\nfrequency of  n is:  29\nfrequency of  o is:  24\nfrequency of  p is:  14\nfrequency of  r is:  22\nfrequency of  s is:  29\nfrequency of  t is:  28\nfrequency of  u is:  10\nfrequency of  v is:  2\nfrequency of  w is:  1\nfrequency of  x is:  2\nfrequency of  y is:  6\nfrequency of  z is:  1\n"
     ]
    }
   ],
   "source": [
    "# Question no 3 to find the frequency of each alphabet in a text\n",
    "\n",
    "f = open(\"/Users/Dell/Documents/college/IT_6th_sem/AI/assignment_text.txt\")\n",
    "s = f.read()\n",
    "dict = {}\n",
    "for i in range(len(s)):\n",
    "    # The ord() function in Python accepts a string of length 1 as an argument and returns the unicode code point\n",
    "    # representation of the passed argument.\n",
    "    if ord(s[i]) in range(97, 123) or ord(s[i]) in range(65,91):\n",
    "        if s[i] in dict.keys():\n",
    "            dict[s[i]] = dict[s[i]] + 1\n",
    "\n",
    "        else:\n",
    "            dict[s[i]] = 1\n",
    "\n",
    "\n",
    "for i in sorted(dict):\n",
    "    print(\"frequency of \", i, \"is: \", dict[i])"
   ]
  },
  {
   "cell_type": "code",
   "execution_count": 26,
   "metadata": {},
   "outputs": [
    {
     "output_type": "stream",
     "name": "stdout",
     "text": [
      "2.236\n"
     ]
    }
   ],
   "source": [
    "# Question 4 to find the square root of a no. upto a given prescision\n",
    "  \n",
    "def sqrRoot(number, pres): \n",
    "\n",
    "\tstart = 0\n",
    "\tend,ans = number,1\n",
    "\n",
    "\t# For computing integral part of square root of number \n",
    "\twhile (start <= end) : \n",
    "\t\tmid = int((start + end) / 2) \n",
    "\t\t\n",
    "\t\tif (mid * mid == number) : \n",
    "\t\t\tans = mid \n",
    "\t\t\tbreak\n",
    "\t\t\n",
    "\t\tif (mid * mid < number) : \n",
    "\t\t\tstart = mid + 1\n",
    "\n",
    "\t\telse : \n",
    "\t\t\tend = mid - 1\n",
    "\t\t\n",
    "\t# For computing the fractional part of square root upto given precision \n",
    "\tincrement = 0.1\n",
    "\tfor i in range(1, pres+1): \n",
    "\t\twhile (ans * ans <= number): \n",
    "\t\t\tans += increment \n",
    "\t\t\n",
    "\t\t# loop terminates when ans * ans > number \n",
    "\t\tans = ans - increment \n",
    "\t\tincrement = increment / 10\n",
    "\t\n",
    "\treturn ans \n",
    "\n",
    "num=int(input(\"Enter the no.\"))\n",
    "pres=int(input(\"Enter the precision\"))\n",
    "print(round(sqrRoot(num,pres),pres))"
   ]
  },
  {
   "cell_type": "code",
   "execution_count": 33,
   "metadata": {},
   "outputs": [
    {
     "output_type": "stream",
     "name": "stdout",
     "text": [
      "The minimum value of y is  0.0  for the corresponding value of x  -3.0\n"
     ]
    }
   ],
   "source": [
    "#Question 5 to find minimum of y=(x+3)^2 using numerical method\n",
    "\n",
    "x=-4 #this is the arbitrary starting point of x \n",
    "incr=0.2 #this is the value of alpha that is used to take a nearby point\n",
    "def val(x):\n",
    "    return (x+3)**2\n",
    "y=val(x)\n",
    "while True:\n",
    "    x=x-(incr*(2*x+6))\n",
    "    new_y=val(x)\n",
    "    if(new_y==y):\n",
    "        break\n",
    "    else:\n",
    "        y=new_y\n",
    "print(\"The minimum value of y is \",round(y,2),\" for the corresponding value of x \",round(x,2))\n",
    " "
   ]
  },
  {
   "cell_type": "code",
   "execution_count": 28,
   "metadata": {},
   "outputs": [
    {
     "output_type": "stream",
     "name": "stdout",
     "text": [
      "length of the vector is 4\ncosine between the vectors is 0.9804659337261536\nEuclidean distance between the vectors is 76.53103945458993\n"
     ]
    }
   ],
   "source": [
    "#Question 6 to implement 1-D vector\n",
    "\n",
    "import math\n",
    "class Vect:\n",
    "    def __init__(self, l):\n",
    "            self.lt = l \n",
    "\n",
    "    def length(self):\n",
    "        return len(self.lt)\n",
    "\n",
    "    def compute_cosine(self, l):\n",
    "        sumxx, sumxy, sumyy = 0, 0, 0\n",
    "        for i in range(len(self.lt)):\n",
    "            x = self.lt[i]\n",
    "            y = l.lt[i]\n",
    "            sumxx += x*x\n",
    "            sumyy += y*y\n",
    "            sumxy += x*y\n",
    "        return sumxy/math.sqrt(sumxx*sumyy)\n",
    "\n",
    "    def EuclideanDist(self, l):\n",
    "        sumxy = 0 \n",
    "        diffxy = 0\n",
    "        for i in range(len(self.lt)):\n",
    "            x = self.lt[i]\n",
    "            y = l.lt[i]\n",
    "            diffxy = x-y\n",
    "            sumxy = sumxy + (diffxy ** 2)\n",
    "        return math.sqrt(sumxy)\n",
    "\n",
    "\n",
    "v1 = Vect([5,6,8,10])\n",
    "v2 = Vect([15,32,48,69])\n",
    "print (\"length of the vector is\",v1.length())\n",
    "print (\"cosine between the vectors is\",v1.compute_cosine(v2))\n",
    "print (\"Euclidean distance between the vectors is\",v2.EuclideanDist(v1))"
   ]
  },
  {
   "cell_type": "code",
   "execution_count": null,
   "metadata": {},
   "outputs": [],
   "source": []
  }
 ]
}