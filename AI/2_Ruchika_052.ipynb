{
 "metadata": {
  "language_info": {
   "codemirror_mode": {
    "name": "ipython",
    "version": 3
   },
   "file_extension": ".py",
   "mimetype": "text/x-python",
   "name": "python",
   "nbconvert_exporter": "python",
   "pygments_lexer": "ipython3",
   "version": "3.8.2-final"
  },
  "orig_nbformat": 2,
  "kernelspec": {
   "name": "python38232bitb0f34cd35c1048aeb3619b7e633bff51",
   "display_name": "Python 3.8.2 32-bit",
   "language": "python"
  }
 },
 "nbformat": 4,
 "nbformat_minor": 2,
 "cells": [
  {
   "cell_type": "code",
   "execution_count": 3,
   "metadata": {},
   "outputs": [
    {
     "output_type": "stream",
     "name": "stdout",
     "text": [
      "          date  actual_mean_temp  actual_min_temp  actual_max_temp  \\\n0     2014-7-1                81               70               91   \n1     2014-7-2                85               74               95   \n2     2014-7-3                82               71               93   \n3     2014-7-4                75               64               86   \n4     2014-7-5                72               60               84   \n..         ...               ...              ...              ...   \n360  2015-6-26                85               70              100   \n361  2015-6-27                82               71               92   \n362  2015-6-28                76               66               85   \n363  2015-6-29                73               59               87   \n364  2015-6-30                83               71               94   \n\n     average_min_temp  average_max_temp  record_min_temp  record_max_temp  \\\n0                  67                89               56              104   \n1                  68                89               56              101   \n2                  68                89               56               99   \n3                  68                89               55               99   \n4                  68                89               57              100   \n..                ...               ...              ...              ...   \n360                67                88               55              102   \n361                67                88               56              103   \n362                67                88               53              101   \n363                67                88               54              104   \n364                67                89               54              104   \n\n     record_min_temp_year  record_max_temp_year  actual_precipitation  \\\n0                    1919                  2012                  0.00   \n1                    2008                  1931                  0.00   \n2                    2010                  1931                  0.14   \n3                    1933                  1955                  0.00   \n4                    1967                  1954                  0.00   \n..                    ...                   ...                   ...   \n360                  1979                  1952                  1.21   \n361                  2012                  1954                  0.55   \n362                  1968                  1959                  0.00   \n363                  1974                  2012                  0.00   \n364                  1962                  2012                  0.00   \n\n     average_precipitation  record_precipitation  \n0                     0.10                  5.91  \n1                     0.10                  1.53  \n2                     0.11                  2.50  \n3                     0.10                  2.63  \n4                     0.10                  1.65  \n..                     ...                   ...  \n360                   0.11                  1.98  \n361                   0.11                  1.86  \n362                   0.11                  1.83  \n363                   0.11                  2.39  \n364                   0.11                  2.75  \n\n[365 rows x 13 columns]\n"
     ]
    }
   ],
   "source": [
    "# to load a csv file into python dataframe\n",
    "import pandas as pd \n",
    "\n",
    "df=pd.read_csv('C:/Users/Dell/Documents/college/IT_6th_sem/AI/data.csv') \n",
    "print(df)"
   ]
  },
  {
   "cell_type": "code",
   "execution_count": 15,
   "metadata": {},
   "outputs": [
    {
     "output_type": "stream",
     "name": "stdout",
     "text": [
      "MIN values \n date                     2014-10-1\nactual_mean_temp                18\nactual_min_temp                  7\nactual_max_temp                 26\naverage_min_temp                29\naverage_max_temp                50\nrecord_min_temp                 -5\nrecord_max_temp                 69\nrecord_min_temp_year          1879\nrecord_max_temp_year          1879\nactual_precipitation          0.00\naverage_precipitation         0.09\nrecord_precipitation          0.85\ndtype: object\n\n\nMAX values \n date                     2015-6-9\nactual_mean_temp               88\nactual_min_temp                75\nactual_max_temp               100\naverage_min_temp               68\naverage_max_temp               89\nrecord_min_temp                62\nrecord_max_temp               104\nrecord_min_temp_year         2015\nrecord_max_temp_year         2015\nactual_precipitation         2.65\naverage_precipitation        0.15\nrecord_precipitation         6.88\ndtype: object\n\n\nMEAN values \n actual_mean_temp           61.049315\nactual_min_temp            49.958904\nactual_max_temp            71.630137\naverage_min_temp           48.819178\naverage_max_temp           70.983562\nrecord_min_temp            31.465753\nrecord_max_temp            88.728767\nrecord_min_temp_year     1953.279452\nrecord_max_temp_year     1953.989041\nactual_precipitation        0.102411\naverage_precipitation       0.114082\nrecord_precipitation        2.208904\ndtype: float64\n\n\nMODE values \n            date  actual_mean_temp  actual_min_temp  actual_max_temp  \\\n0     2014-10-1              78.0             67.0             84.0   \n1    2014-10-10               NaN              NaN             86.0   \n2    2014-10-11               NaN              NaN             90.0   \n3    2014-10-12               NaN              NaN              NaN   \n4    2014-10-13               NaN              NaN              NaN   \n..          ...               ...              ...              ...   \n360    2015-6-5               NaN              NaN              NaN   \n361    2015-6-6               NaN              NaN              NaN   \n362    2015-6-7               NaN              NaN              NaN   \n363    2015-6-8               NaN              NaN              NaN   \n364    2015-6-9               NaN              NaN              NaN   \n\n     average_min_temp  average_max_temp  record_min_temp  record_max_temp  \\\n0                68.0              89.0             53.0            100.0   \n1                 NaN               NaN             55.0              NaN   \n2                 NaN               NaN              NaN              NaN   \n3                 NaN               NaN              NaN              NaN   \n4                 NaN               NaN              NaN              NaN   \n..                ...               ...              ...              ...   \n360               NaN               NaN              NaN              NaN   \n361               NaN               NaN              NaN              NaN   \n362               NaN               NaN              NaN              NaN   \n363               NaN               NaN              NaN              NaN   \n364               NaN               NaN              NaN              NaN   \n\n     record_min_temp_year  record_max_temp_year  actual_precipitation  \\\n0                  1967.0                1954.0                   0.0   \n1                     NaN                   NaN                   NaN   \n2                     NaN                   NaN                   NaN   \n3                     NaN                   NaN                   NaN   \n4                     NaN                   NaN                   NaN   \n..                    ...                   ...                   ...   \n360                   NaN                   NaN                   NaN   \n361                   NaN                   NaN                   NaN   \n362                   NaN                   NaN                   NaN   \n363                   NaN                   NaN                   NaN   \n364                   NaN                   NaN                   NaN   \n\n     average_precipitation  record_precipitation  \n0                     0.11                  1.65  \n1                      NaN                  1.78  \n2                      NaN                  1.82  \n3                      NaN                   NaN  \n4                      NaN                   NaN  \n..                     ...                   ...  \n360                    NaN                   NaN  \n361                    NaN                   NaN  \n362                    NaN                   NaN  \n363                    NaN                   NaN  \n364                    NaN                   NaN  \n\n[365 rows x 13 columns]\n\n\nMEDIAN values \n actual_mean_temp           63.00\nactual_min_temp            52.00\nactual_max_temp            73.00\naverage_min_temp           48.00\naverage_max_temp           72.00\nrecord_min_temp            30.00\nrecord_max_temp            90.00\nrecord_min_temp_year     1963.00\nrecord_max_temp_year     1953.00\nactual_precipitation        0.00\naverage_precipitation       0.11\nrecord_precipitation        1.98\ndtype: float64\n"
     ]
    }
   ],
   "source": [
    "print(\"MIN values \\n\",df.min(axis=0))\n",
    "print('\\n')\n",
    "print(\"MAX values \\n\",df.max(axis=0))\n",
    "print('\\n')\n",
    "print(\"MEAN values \\n\",df.mean(axis=0))\n",
    "print('\\n')\n",
    "print(\"MODE values \\n\",df.mode(axis=0))\n",
    "print('\\n')\n",
    "print(\"MEDIAN values \\n\",df.median(axis=0))"
   ]
  },
  {
   "cell_type": "code",
   "execution_count": 22,
   "metadata": {},
   "outputs": [
    {
     "output_type": "stream",
     "name": "stdout",
     "text": [
      "       date  actual_mean_temp  actual_min_temp  actual_max_temp  \\\n0  2014-7-1                81               70               91   \n1  2014-7-2                85               74               95   \n2  2014-7-3                82               71               93   \n3  2014-7-4                75               64               86   \n\n   average_min_temp  average_max_temp  record_min_temp  record_max_temp  \\\n0                67                89               56              104   \n1                68                89               56              101   \n2                68                89               56               99   \n3                68                89               55               99   \n\n   record_min_temp_year  record_max_temp_year  actual_precipitation  \\\n0                  1919                  2012                  0.00   \n1                  2008                  1931                  0.00   \n2                  2010                  1931                  0.14   \n3                  1933                  1955                  0.00   \n\n   average_precipitation  record_precipitation  newColumn  \n0                   0.10                  5.91         81  \n1                   0.10                  1.53         85  \n2                   0.11                  2.50         82  \n3                   0.10                  2.63         75  \n"
     ]
    }
   ],
   "source": [
    "t=int(.2*365)\n",
    "#view_df= pd.read_csv('C:/Users/Dell/Documents/college/IT_6th_sem/AI/data.csv', usecols=[0,1,2,3], nrows=t)\n",
    "view_df= df[:t][:4]\n",
    "print(view_df)"
   ]
  },
  {
   "cell_type": "code",
   "execution_count": 21,
   "metadata": {},
   "outputs": [
    {
     "output_type": "stream",
     "name": "stdout",
     "text": [
      "       date  actual_mean_temp  actual_min_temp  actual_max_temp  \\\n0  2014-7-1                81               70               91   \n1  2014-7-2                85               74               95   \n2  2014-7-3                82               71               93   \n3  2014-7-4                75               64               86   \n4  2014-7-5                72               60               84   \n\n   average_min_temp  average_max_temp  record_min_temp  record_max_temp  \\\n0                67                89               56              104   \n1                68                89               56              101   \n2                68                89               56               99   \n3                68                89               55               99   \n4                68                89               57              100   \n\n   record_min_temp_year  record_max_temp_year  actual_precipitation  \\\n0                  1919                  2012                  0.00   \n1                  2008                  1931                  0.00   \n2                  2010                  1931                  0.14   \n3                  1933                  1955                  0.00   \n4                  1967                  1954                  0.00   \n\n   average_precipitation  record_precipitation  newColumn  \n0                   0.10                  5.91         81  \n1                   0.10                  1.53         85  \n2                   0.11                  2.50         82  \n3                   0.10                  2.63         75  \n4                   0.10                  1.65         72  \n"
     ]
    }
   ],
   "source": [
    "# Create a new column (call it ‘newColumn’), it should have the same values as the column ‘actual_mean_temp’.\n",
    "# Print head of dataframe.\n",
    "\n",
    "df[\"newColumn\"]=df[\"actual_mean_temp\"]\n",
    "print(df.head())"
   ]
  },
  {
   "cell_type": "code",
   "execution_count": 23,
   "metadata": {},
   "outputs": [
    {
     "output_type": "stream",
     "name": "stdout",
     "text": [
      "       date  actual_mean_temp  actual_min_temp  actual_max_temp  \\\n0  2014-7-1                81               70               91   \n1  2014-7-2                85               74               95   \n2  2014-7-3                82               71               93   \n3  2014-7-4                75               64               86   \n4  2014-7-5                72               60               84   \n\n   average_min_temp  average_max_temp  record_min_temp  record_max_temp  \\\n0                67                89               56              104   \n1                68                89               56              101   \n2                68                89               56               99   \n3                68                89               55               99   \n4                68                89               57              100   \n\n   record_min_temp_year  record_max_temp_year  actual_precipitation  \\\n0                  1919                  2012                  0.00   \n1                  2008                  1931                  0.00   \n2                  2010                  1931                  0.14   \n3                  1933                  1955                  0.00   \n4                  1967                  1954                  0.00   \n\n   average_precipitation  record_precipitation  \n0                   0.10                  5.91  \n1                   0.10                  1.53  \n2                   0.11                  2.50  \n3                   0.10                  2.63  \n4                   0.10                  1.65  \n"
     ]
    }
   ],
   "source": [
    "# Remove the new column that you have created above. Print head of dataframe.\n",
    "\n",
    "df.drop(\"newColumn\", inplace=True, axis=1)\n",
    "print(df.head())"
   ]
  },
  {
   "cell_type": "code",
   "execution_count": 8,
   "metadata": {},
   "outputs": [
    {
     "output_type": "stream",
     "name": "stdout",
     "text": [
      "         date  actual_mean_temp  actual_min_temp  actual_max_temp  \\\n0    2014-7-1                81               70               91   \n1    2014-7-2                85               74               95   \n2    2014-7-3                82               71               93   \n3    2014-7-4                75               64               86   \n4    2014-7-5                72               60               84   \n5    2014-7-6                74               61               87   \n6    2014-7-7                79               67               91   \n7    2014-7-8                83               72               94   \n8    2014-7-9                80               71               89   \n9   2014-7-10                78               71               85   \n10  2014-7-11                78               68               87   \n\n    average_min_temp  average_max_temp  record_min_temp  record_max_temp  \\\n0                 67                89               56              104   \n1                 68                89               56              101   \n2                 68                89               56               99   \n3                 68                89               55               99   \n4                 68                89               57              100   \n5                 68                89               57               99   \n6                 68                89               55              100   \n7                 68                89               58              101   \n8                 68                89               57              101   \n9                 68                89               53              101   \n10                68                89               55              100   \n\n    record_min_temp_year  record_max_temp_year  actual_precipitation  \\\n0                   1919                  2012                  0.00   \n1                   2008                  1931                  0.00   \n2                   2010                  1931                  0.14   \n3                   1933                  1955                  0.00   \n4                   1967                  1954                  0.00   \n5                   1964                  1948                  0.00   \n6                   1972                  1954                  0.00   \n7                   1892                  2010                  0.00   \n8                   1891                  1986                  0.15   \n9                   1961                  1926                  0.00   \n10                  1961                  1986                  0.00   \n\n    average_precipitation  record_precipitation  \n0                    0.10                  5.91  \n1                    0.10                  1.53  \n2                    0.11                  2.50  \n3                    0.10                  2.63  \n4                    0.10                  1.65  \n5                    0.10                  1.95  \n6                    0.11                  2.37  \n7                    0.11                  1.87  \n8                    0.12                  3.71  \n9                    0.11                  2.45  \n10                   0.12                  3.10  \n\n date                     2014-7-3\nactual_mean_temp               82\nactual_min_temp                71\nactual_max_temp                93\naverage_min_temp               68\naverage_max_temp               89\nrecord_min_temp                56\nrecord_max_temp                99\nrecord_min_temp_year         2010\nrecord_max_temp_year         1931\nactual_precipitation         0.14\naverage_precipitation        0.11\nrecord_precipitation         2.50\nName: 2, dtype: object\n\n <class 'pandas.core.series.Series'>\n\n            actual_mean_temp  actual_min_temp  actual_max_temp  \\\ndate                                                            \n2014-7-1                 81               70               91   \n2014-7-2                 85               74               95   \n2014-7-4                 75               64               86   \n2014-7-5                 72               60               84   \n2014-7-6                 74               61               87   \n2014-7-7                 79               67               91   \n2014-7-8                 83               72               94   \n2014-7-9                 80               71               89   \n2014-7-10                78               71               85   \n2014-7-11                78               68               87   \n\n           average_min_temp  average_max_temp  record_min_temp  \\\ndate                                                             \n2014-7-1                 67                89               56   \n2014-7-2                 68                89               56   \n2014-7-4                 68                89               55   \n2014-7-5                 68                89               57   \n2014-7-6                 68                89               57   \n2014-7-7                 68                89               55   \n2014-7-8                 68                89               58   \n2014-7-9                 68                89               57   \n2014-7-10                68                89               53   \n2014-7-11                68                89               55   \n\n           record_max_temp  record_min_temp_year  record_max_temp_year  \\\ndate                                                                     \n2014-7-1               104                  1919                  2012   \n2014-7-2               101                  2008                  1931   \n2014-7-4                99                  1933                  1955   \n2014-7-5               100                  1967                  1954   \n2014-7-6                99                  1964                  1948   \n2014-7-7               100                  1972                  1954   \n2014-7-8               101                  1892                  2010   \n2014-7-9               101                  1891                  1986   \n2014-7-10              101                  1961                  1926   \n2014-7-11              100                  1961                  1986   \n\n           actual_precipitation  average_precipitation  record_precipitation  \ndate                                                                          \n2014-7-1                   0.00                   0.10                  5.91  \n2014-7-2                   0.00                   0.10                  1.53  \n2014-7-4                   0.00                   0.10                  2.63  \n2014-7-5                   0.00                   0.10                  1.65  \n2014-7-6                   0.00                   0.10                  1.95  \n2014-7-7                   0.00                   0.11                  2.37  \n2014-7-8                   0.00                   0.11                  1.87  \n2014-7-9                   0.15                   0.12                  3.71  \n2014-7-10                  0.00                   0.11                  2.45  \n2014-7-11                  0.00                   0.12                  3.10  \n"
     ]
    }
   ],
   "source": [
    "#Print the first 10 rows, then remove the row containing data of ‘2014-7-3’, save this row in \n",
    "# a variable of type series (data structure). Print the first 10 rows after removal of row.\n",
    "\n",
    "print(df.head(11))\n",
    "\n",
    "ser = df.loc[df.date == '2014-7-3']\n",
    "ser = ser.iloc[0]\n",
    "print ('\\n',ser)\n",
    "print ('\\n',type(ser))\n",
    "\n",
    "data=df\n",
    "data = data.set_index(\"date\")\n",
    "data = data.drop(\"2014-7-3\", axis=0)\n",
    "print ('\\n',data.head(10))"
   ]
  },
  {
   "cell_type": "code",
   "execution_count": 9,
   "metadata": {},
   "outputs": [
    {
     "output_type": "stream",
     "name": "stdout",
     "text": [
      "           actual_mean_temp actual_min_temp actual_max_temp average_min_temp  \\\ndate                                                                           \n2014-10-1                70              56              84               54   \n2014-10-10               72              60              84               51   \n2014-10-11               78              68              87               51   \n2014-10-12               63              58              68               50   \n2014-10-13               66              59              72               50   \n2014-10-14               73              64              82               49   \n2014-10-15               66              58              73               49   \n2014-10-16               61              50              71               49   \n2014-10-17               59              44              74               48   \n2014-10-18               65              53              76               48   \n\n           average_max_temp record_min_temp record_max_temp  \\\ndate                                                          \n2014-10-1                76              39              92   \n2014-10-10               74              30              89   \n2014-10-11               73              29              90   \n2014-10-12               73              31              87   \n2014-10-13               73              35              91   \n2014-10-14               72              32              87   \n2014-10-15               72              30              88   \n2014-10-16               72              35              87   \n2014-10-17               71              35              85   \n2014-10-18               71              31              87   \n\n           record_min_temp_year record_max_temp_year actual_precipitation  \\\ndate                                                                        \n2014-10-1                  1899                 1954                 0.00   \n2014-10-10                 2000                 1939                 0.00   \n2014-10-11                 2000                 1939                 0.08   \n2014-10-12                 1906                 1919                 0.02   \n2014-10-13                 1964                 1954                 0.04   \n2014-10-14                 2006                 1940                 0.45   \n2014-10-15                 2006                 1985                 0.24   \n2014-10-16                 1939                 1925                 0.00   \n2014-10-17                 2001                 1962                 0.00   \n2014-10-18                 2001                 1938                 0.00   \n\n           average_precipitation record_precipitation  \ndate                                                   \n2014-10-1                   0.12                 3.80  \n2014-10-10                  0.11                 4.18  \n2014-10-11                  0.12                 2.58  \n2014-10-12                  0.12                 2.82  \n2014-10-13                  0.12                 1.93  \n2014-10-14                  0.11                 2.27  \n2014-10-15                  0.11                 1.83  \n2014-10-16                  0.11                 4.76  \n2014-10-17                  0.11                 1.90  \n2014-10-18                  0.12                 2.34  \n"
     ]
    }
   ],
   "source": [
    "\n",
    "ser = ser.to_frame().T.set_index(\"date\")\n",
    "data = data.append(ser)\n",
    "data= data.sort_values(by = 'date')\n",
    "print (data.head(10))"
   ]
  },
  {
   "cell_type": "code",
   "execution_count": 13,
   "metadata": {},
   "outputs": [
    {
     "output_type": "stream",
     "name": "stdout",
     "text": [
      "Old row:         date  actual_mean_temp  actual_min_temp  actual_max_temp  \\\n2  2014-7-3                82               71               93   \n\n   average_min_temp  average_max_temp  record_min_temp  record_max_temp  \\\n2                68                89               56               99   \n\n   record_min_temp_year  record_max_temp_year  actual_precipitation  \\\n2                  2010                  1931                  0.14   \n\n   average_precipitation  record_precipitation  \n2                   0.11                   2.5  \nNew row:         date  actual_mean_temp  actual_min_temp  actual_max_temp  \\\n2  2014-7-3                82               16               93   \n\n   average_min_temp  average_max_temp  record_min_temp  record_max_temp  \\\n2                68                89               56               99   \n\n   record_min_temp_year  record_max_temp_year  actual_precipitation  \\\n2                  2010                  1931                  0.14   \n\n   average_precipitation  record_precipitation  \n2                   0.11                   2.5  \n"
     ]
    }
   ],
   "source": [
    "#Update the actual_min_temp in the data row for date ‘2014-7-3’ to any value. Print the updated row.\n",
    "data1=df\n",
    "print (\"Old row: \", data1[data1.date == '2014-7-3'])\n",
    "data1.loc[data1.date =='2014-7-3', 'actual_min_temp'] = 16\n",
    "print (\"New row: \", data1[data1.date == '2014-7-3'])"
   ]
  },
  {
   "cell_type": "code",
   "execution_count": null,
   "metadata": {},
   "outputs": [],
   "source": []
  }
 ]
}